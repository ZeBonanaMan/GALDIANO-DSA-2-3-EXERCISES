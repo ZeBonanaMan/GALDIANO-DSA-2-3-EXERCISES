{
 "cells": [
  {
   "cell_type": "markdown",
   "metadata": {},
   "source": [
    "Name: Marco Gabriel P. Galdiano                                                         \n",
    "Subject: Data Structure and Algorithm                                                      \n",
    "Lab Activity: Python Review                                                       \n",
    "Date Passed: 19-09-2024                                                      \n",
    "\n",
    "Exercise 1: Temperature Converter"
   ]
  },
  {
   "cell_type": "code",
   "execution_count": null,
   "metadata": {},
   "outputs": [],
   "source": [
    "def perform_input():\n",
    "        global given_temperature\n",
    "        given_temperature = input(\"\\n\\nPlease input a temperature:\\n\")\n",
    "        if given_temperature.isnumeric() == False:\n",
    "            print(f\"\\n\\n\\033[91m!! Please enter numbers only\\033[0m\")\n",
    "            perform_input()\n",
    "        else:\n",
    "            input_type()\n",
    "\n",
    "def input_type():\n",
    "    given_type = (input(\"\\n\\nWhat type of conversion will it be?\\n\"\n",
    "                            \"(1) For Celsius to Fahrenheit\\n\"\n",
    "                            \"(2) For Fahrenheit to Celsius\\n\"\n",
    "                            \"(0) Exit\\n\\n\"\n",
    "                            \"Response: \"))\n",
    "    \n",
    "    if given_type == \"1\":\n",
    "        answer = (float(given_temperature) * 1.8) + 32\n",
    "        print(answer.__round__(4),\"°C\",)\n",
    "\n",
    "    elif given_type == \"2\":\n",
    "        answer = (float(given_temperature) - 32) * (5/9)\n",
    "        print(answer.__round__(4),\"°F\")\n",
    "    \n",
    "    elif given_type == \"0\":\n",
    "        exit()\n",
    "\n",
    "    else:\n",
    "        print(f\"\\n\\n\\033[91m!! Choose only between 1 or 2 !!\\033[0m\")\n",
    "        input_type()\n",
    "\n",
    "perform_input()"
   ]
  },
  {
   "cell_type": "markdown",
   "metadata": {},
   "source": [
    "Exercise 2: Ohm’s Law Calculator"
   ]
  },
  {
   "cell_type": "code",
   "execution_count": null,
   "metadata": {},
   "outputs": [],
   "source": [
    "def input_type():\n",
    "    given_type = (input(\"\\n\\nWhat type of conversion will it be?\\n\"\n",
    "                            \"(1) Voltage\\n\"\n",
    "                            \"(2) Current\\n\"\n",
    "                            \"(3) Resistance\\n\"\n",
    "                            \"(0) Exit\\n\\n\"\n",
    "                            \"Response: \"))\n",
    "    try:\n",
    "        if given_type == \"1\":\n",
    "            curr = int(input(\"\\nCurrent: \"))\n",
    "            resistance = int(input(\"Resistance: \"))\n",
    "            answer = float(curr*resistance)\n",
    "            print(answer.__round__(4))\n",
    "\n",
    "        elif given_type == \"2\":\n",
    "            voltage = int(input(\"\\nVoltage: \"))\n",
    "            resistance = int(input(\"Resistance: \"))\n",
    "            answer = float(voltage/resistance)\n",
    "            print(answer.__round__(4))\n",
    "\n",
    "        elif given_type == \"3\":\n",
    "            voltage = int(input(\"\\nVoltage: \"))\n",
    "            current = int(input(\"Current: \"))\n",
    "            answer = float(voltage/current)\n",
    "            print(answer.__round__(4))\n",
    "\n",
    "        elif given_type == \"0\":\n",
    "            exit()\n",
    "\n",
    "        else:\n",
    "            print(f\"\\n\\n\\033[91m!! Choose only between 1, 2, or 3 !!\\033[0m\")\n",
    "            input_type()\n",
    "\n",
    "    except ZeroDivisionError:\n",
    "        print(f\"\\n\\n\\033[91m!! You cannot divide by 0 !!\\033[0m\\n\")\n",
    "        input_type()\n",
    "\n",
    "    except ValueError:\n",
    "        print(\"\\n\\n\\033[91m!! Please enter numbers only\\033[0m\\n\")\n",
    "        input_type()\n",
    "\n",
    "input_type()"
   ]
  },
  {
   "cell_type": "markdown",
   "metadata": {},
   "source": [
    "Exercise 3:  Diamond Shape (advance topic):"
   ]
  },
  {
   "cell_type": "code",
   "execution_count": 19,
   "metadata": {},
   "outputs": [
    {
     "name": "stdout",
     "output_type": "stream",
     "text": [
      "\u001b[91m!! Please enter a valid odd number !!\u001b[0m\n",
      "\n",
      "  *\n",
      " ***\n",
      "*****\n",
      " ***\n",
      "  *\n"
     ]
    }
   ],
   "source": [
    "def diamond_time():\n",
    "    try:\n",
    "        given = int(input(\"Enter an odd number: \"))\n",
    "        if given % 2 == 0:\n",
    "            print(f\"\\033[91m!! Please enter an odd number !!\\033[0m\\n\")\n",
    "            diamond_time()\n",
    "        else:\n",
    "            mid = given // 2\n",
    "            for i in range(given):\n",
    "                spaces = abs(mid - i)\n",
    "                stars = given - 2 * spaces\n",
    "                print(\" \" * spaces + \"*\" * stars)\n",
    "\n",
    "    except ValueError:\n",
    "        print(f\"\\033[91m!! Please enter a valid odd number !!\\033[0m\\n\")\n",
    "        diamond_time()\n",
    "\n",
    "diamond_time()"
   ]
  }
 ],
 "metadata": {
  "kernelspec": {
   "display_name": "Python 3",
   "language": "python",
   "name": "python3"
  },
  "language_info": {
   "codemirror_mode": {
    "name": "ipython",
    "version": 3
   },
   "file_extension": ".py",
   "mimetype": "text/x-python",
   "name": "python",
   "nbconvert_exporter": "python",
   "pygments_lexer": "ipython3",
   "version": "3.12.6"
  }
 },
 "nbformat": 4,
 "nbformat_minor": 2
}
