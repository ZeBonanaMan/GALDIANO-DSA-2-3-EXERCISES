{
 "cells": [
  {
   "cell_type": "markdown",
   "metadata": {},
   "source": [
    "### Galdiano, Marco Gabriel P. - BSCPE 2-3 - LAB 2 \n",
    "\n"
   ]
  },
  {
   "cell_type": "markdown",
   "metadata": {},
   "source": [
    "## Lab 2 Exercise 1\n",
    "#### A teacher named Mrs. Rivera who loved making math fun for her students. One day, a student named Mia asked how to calculate powers, like (2^7). Mrs. Rivera explained, “Imagine you need to multiply 2 by itself seven times. We can solve this using a python code utilizing  special method called recursion to solve this,” \n",
    "### Can you help the class of Mrs. Rivera by providing the recursive method to calculate powers?"
   ]
  },
  {
   "cell_type": "code",
   "execution_count": null,
   "metadata": {},
   "outputs": [],
   "source": [
    "def powers():\n",
    "    base = int(input(\"Base number: \"))\n",
    "    raised = int(input(\"Raised by: \"))\n",
    "\n",
    "    for i in range(raised + 1):\n",
    "        if raised == 1:\n",
    "            answer = base\n",
    "        elif raised == 0:\n",
    "            answer = 1    \n",
    "        else:\n",
    "            answer = base * base\n",
    "    print(answer)  \n",
    "\n",
    "powers()"
   ]
  },
  {
   "cell_type": "markdown",
   "metadata": {},
   "source": [
    "## Lab 2 Exercise 2\n",
    "#### compute for the cube of integers. "
   ]
  },
  {
   "cell_type": "code",
   "execution_count": 25,
   "metadata": {},
   "outputs": [
    {
     "name": "stdout",
     "output_type": "stream",
     "text": [
      "Enter the size of the array : 0\n",
      "Enter the elements separated by space: [0]\n",
      "0\n"
     ]
    }
   ],
   "source": [
    "sizear = input(\"Enter the size of the array : \")\n",
    "inputar = list(map(int, input(\"Enter the elements separated by space: \").split()))\n",
    "\n",
    "print(f\"Enter the size of the array : {sizear}\")\n",
    "print(f\"Enter the elements separated by space: {inputar}\")\n",
    "\n",
    "for i in inputar:\n",
    "    print(i ** 3)\n"
   ]
  },
  {
   "cell_type": "markdown",
   "metadata": {},
   "source": [
    "## Lab 2 Exercise 3\n",
    "#### Generate a hollow square based on the + integer input side length n."
   ]
  },
  {
   "cell_type": "code",
   "execution_count": 26,
   "metadata": {},
   "outputs": [
    {
     "name": "stdout",
     "output_type": "stream",
     "text": [
      "\n",
      "\n"
     ]
    }
   ],
   "source": [
    "side_length = int(input(\"Enter the side length of the square: \"))\n",
    "if side_length == 1:\n",
    "    print(\"x\")\n",
    "else:\n",
    "    print(\"x\" * side_length)\n",
    "\n",
    "    for i in range(side_length - 2):\n",
    "        print(\"x\" + \" \" * (side_length - 2) + \"x\")\n",
    "\n",
    "    print(\"x\" * side_length)"
   ]
  },
  {
   "cell_type": "markdown",
   "metadata": {},
   "source": [
    "## Lab 2 Exercise 4\n",
    "#### Generate an inverted right triangle of height n."
   ]
  },
  {
   "cell_type": "code",
   "execution_count": null,
   "metadata": {},
   "outputs": [],
   "source": [
    "try:\n",
    "    height = int(input(\"Enter the height of the triangle: \"))\n",
    "\n",
    "    for i in range(height, 0, -1):\n",
    "        print(\"*\" * i)\n",
    "except ValueError:\n",
    "    print(\"Input a valid number\")"
   ]
  }
 ],
 "metadata": {
  "kernelspec": {
   "display_name": "Python 3",
   "language": "python",
   "name": "python3"
  },
  "language_info": {
   "codemirror_mode": {
    "name": "ipython",
    "version": 3
   },
   "file_extension": ".py",
   "mimetype": "text/x-python",
   "name": "python",
   "nbconvert_exporter": "python",
   "pygments_lexer": "ipython3",
   "version": "3.12.6"
  }
 },
 "nbformat": 4,
 "nbformat_minor": 2
}
